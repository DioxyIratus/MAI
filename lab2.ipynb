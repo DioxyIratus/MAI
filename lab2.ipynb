{
 "cells": [
  {
   "cell_type": "markdown",
   "metadata": {},
   "source": [
    "# Лабораторная работа 2\n",
    "# Алгоритмы машинного обучения\n",
    "### _Студент: Чумасов Д.О._\n",
    "### _Группа: М80-404Б._\n",
    "\n",
    "## _Постановка задачи_\n",
    "Требуется реализовать класс на выбранном языке программирования, который реализует один из алгоритмов машинного обучения. Обязательным является наличия в классе двух методов fit, predict. Необходимо проверить работу вашего алгоритма на ваших данных (на таблице и на текстовых данных), произведя необходимую подготовку данных. Также необходимо реализовать алгоритм полиномиальной регрессии, для предсказания значений в таблице. Сравнить результаты с стандартной реализацией sklearn, определить в чем сходство и различие ваших алгоритмов. Замерить время работы алгоритмов. Каркас класса на языке Python:<br>\n",
    "\n",
    "class MLAlgo(object):\n",
    "\n",
    "def __init__(self,*pargs,**kwargs):\n",
    "\n",
    "pass\n",
    "\n",
    "def fit(self,x,y):\n",
    "\n",
    "pass\n",
    "\n",
    "def predict(self,x,y):\n",
    "\n",
    "Выбор алгоритма осуществляется по: 13 % 6 + 1 =2 => KNN\n",
    "\n",
    "__[Датасет1](https://www.kaggle.com/uciml/red-wine-quality-cortez-et-al-2009):__набор данных о качестве вина(Содержит, количественные признаки.)__\n",
    "\n",
    " __[Датасет2](https://www.kaggle.com/enikolov/reviews-tripadvisor-hotels-and-edmunds-cars):__Набор данных об отелях в различных городах (Представляет собой корпус документов отзывы к отелям.)__\n",
    "\n",
    "### _Алгоритм_\n",
    "\n",
    "Для классификации каждого из объектов тестовой выборки необходимо последовательно выполнить следующие операции:<br>\n",
    "- Вычислить расстояние до каждого из объектов обучающей выборки\n",
    "- Отобрать k объектов обучающей выборки, расстояние до которых минимально\n",
    "- Класс классифицируемого объекта — это класс, наиболее часто встречающийся среди k ближайших соседей\n",
    "\n",
    "## Табличные данные"
   ]
  },
  {
   "cell_type": "code",
   "execution_count": 2,
   "metadata": {},
   "outputs": [
    {
     "data": {
      "text/html": [
       "<div>\n",
       "<style scoped>\n",
       "    .dataframe tbody tr th:only-of-type {\n",
       "        vertical-align: middle;\n",
       "    }\n",
       "\n",
       "    .dataframe tbody tr th {\n",
       "        vertical-align: top;\n",
       "    }\n",
       "\n",
       "    .dataframe thead th {\n",
       "        text-align: right;\n",
       "    }\n",
       "</style>\n",
       "<table border=\"1\" class=\"dataframe\">\n",
       "  <thead>\n",
       "    <tr style=\"text-align: right;\">\n",
       "      <th></th>\n",
       "      <th>fixed acidity</th>\n",
       "      <th>volatile acidity</th>\n",
       "      <th>citric acid</th>\n",
       "      <th>residual sugar</th>\n",
       "      <th>chlorides</th>\n",
       "      <th>free sulfur dioxide</th>\n",
       "      <th>total sulfur dioxide</th>\n",
       "      <th>density</th>\n",
       "      <th>pH</th>\n",
       "      <th>sulphates</th>\n",
       "      <th>alcohol</th>\n",
       "      <th>quality</th>\n",
       "    </tr>\n",
       "  </thead>\n",
       "  <tbody>\n",
       "    <tr>\n",
       "      <td>0</td>\n",
       "      <td>7.4</td>\n",
       "      <td>0.70</td>\n",
       "      <td>0.00</td>\n",
       "      <td>1.9</td>\n",
       "      <td>0.076</td>\n",
       "      <td>11.0</td>\n",
       "      <td>34.0</td>\n",
       "      <td>0.9978</td>\n",
       "      <td>3.51</td>\n",
       "      <td>0.56</td>\n",
       "      <td>9.4</td>\n",
       "      <td>5</td>\n",
       "    </tr>\n",
       "    <tr>\n",
       "      <td>1</td>\n",
       "      <td>7.8</td>\n",
       "      <td>0.88</td>\n",
       "      <td>0.00</td>\n",
       "      <td>2.6</td>\n",
       "      <td>0.098</td>\n",
       "      <td>25.0</td>\n",
       "      <td>67.0</td>\n",
       "      <td>0.9968</td>\n",
       "      <td>3.20</td>\n",
       "      <td>0.68</td>\n",
       "      <td>9.8</td>\n",
       "      <td>5</td>\n",
       "    </tr>\n",
       "    <tr>\n",
       "      <td>2</td>\n",
       "      <td>7.8</td>\n",
       "      <td>0.76</td>\n",
       "      <td>0.04</td>\n",
       "      <td>2.3</td>\n",
       "      <td>0.092</td>\n",
       "      <td>15.0</td>\n",
       "      <td>54.0</td>\n",
       "      <td>0.9970</td>\n",
       "      <td>3.26</td>\n",
       "      <td>0.65</td>\n",
       "      <td>9.8</td>\n",
       "      <td>5</td>\n",
       "    </tr>\n",
       "    <tr>\n",
       "      <td>3</td>\n",
       "      <td>11.2</td>\n",
       "      <td>0.28</td>\n",
       "      <td>0.56</td>\n",
       "      <td>1.9</td>\n",
       "      <td>0.075</td>\n",
       "      <td>17.0</td>\n",
       "      <td>60.0</td>\n",
       "      <td>0.9980</td>\n",
       "      <td>3.16</td>\n",
       "      <td>0.58</td>\n",
       "      <td>9.8</td>\n",
       "      <td>6</td>\n",
       "    </tr>\n",
       "    <tr>\n",
       "      <td>4</td>\n",
       "      <td>7.4</td>\n",
       "      <td>0.70</td>\n",
       "      <td>0.00</td>\n",
       "      <td>1.9</td>\n",
       "      <td>0.076</td>\n",
       "      <td>11.0</td>\n",
       "      <td>34.0</td>\n",
       "      <td>0.9978</td>\n",
       "      <td>3.51</td>\n",
       "      <td>0.56</td>\n",
       "      <td>9.4</td>\n",
       "      <td>5</td>\n",
       "    </tr>\n",
       "  </tbody>\n",
       "</table>\n",
       "</div>"
      ],
      "text/plain": [
       "   fixed acidity  volatile acidity  citric acid  residual sugar  chlorides  \\\n",
       "0            7.4              0.70         0.00             1.9      0.076   \n",
       "1            7.8              0.88         0.00             2.6      0.098   \n",
       "2            7.8              0.76         0.04             2.3      0.092   \n",
       "3           11.2              0.28         0.56             1.9      0.075   \n",
       "4            7.4              0.70         0.00             1.9      0.076   \n",
       "\n",
       "   free sulfur dioxide  total sulfur dioxide  density    pH  sulphates  \\\n",
       "0                 11.0                  34.0   0.9978  3.51       0.56   \n",
       "1                 25.0                  67.0   0.9968  3.20       0.68   \n",
       "2                 15.0                  54.0   0.9970  3.26       0.65   \n",
       "3                 17.0                  60.0   0.9980  3.16       0.58   \n",
       "4                 11.0                  34.0   0.9978  3.51       0.56   \n",
       "\n",
       "   alcohol  quality  \n",
       "0      9.4        5  \n",
       "1      9.8        5  \n",
       "2      9.8        5  \n",
       "3      9.8        6  \n",
       "4      9.4        5  "
      ]
     },
     "execution_count": 2,
     "metadata": {},
     "output_type": "execute_result"
    }
   ],
   "source": [
    "import numpy as np\n",
    "import matplotlib.pyplot as plt \n",
    "\n",
    "import pandas as pd  \n",
    "import seaborn as sb\n",
    "\n",
    "ad = pd.read_csv(r'E:\\temp\\winequality-red.csv')\n",
    "ad.head()"
   ]
  },
  {
   "cell_type": "markdown",
   "metadata": {},
   "source": [
    "**Колонки и информация по датасету**"
   ]
  },
  {
   "cell_type": "code",
   "execution_count": 3,
   "metadata": {},
   "outputs": [
    {
     "name": "stdout",
     "output_type": "stream",
     "text": [
      "Index(['fixed acidity', 'volatile acidity', 'citric acid', 'residual sugar',\n",
      "       'chlorides', 'free sulfur dioxide', 'total sulfur dioxide', 'density',\n",
      "       'pH', 'sulphates', 'alcohol', 'quality'],\n",
      "      dtype='object')\n",
      "<class 'pandas.core.frame.DataFrame'>\n",
      "RangeIndex: 1599 entries, 0 to 1598\n",
      "Data columns (total 12 columns):\n",
      "fixed acidity           1599 non-null float64\n",
      "volatile acidity        1599 non-null float64\n",
      "citric acid             1599 non-null float64\n",
      "residual sugar          1599 non-null float64\n",
      "chlorides               1599 non-null float64\n",
      "free sulfur dioxide     1599 non-null float64\n",
      "total sulfur dioxide    1599 non-null float64\n",
      "density                 1599 non-null float64\n",
      "pH                      1599 non-null float64\n",
      "sulphates               1599 non-null float64\n",
      "alcohol                 1599 non-null float64\n",
      "quality                 1599 non-null int64\n",
      "dtypes: float64(11), int64(1)\n",
      "memory usage: 150.0 KB\n",
      "None\n"
     ]
    }
   ],
   "source": [
    "print(ad.columns)\n",
    "print(ad.info())"
   ]
  },
  {
   "cell_type": "markdown",
   "metadata": {},
   "source": [
    "**Предварительная обработка данных**"
   ]
  },
  {
   "cell_type": "code",
   "execution_count": 5,
   "metadata": {},
   "outputs": [
    {
     "name": "stdout",
     "output_type": "stream",
     "text": [
      "<class 'pandas.core.frame.DataFrame'>\n",
      "Int64Index: 178 entries, 0 to 1593\n",
      "Data columns (total 12 columns):\n",
      "fixed acidity           178 non-null float64\n",
      "volatile acidity        178 non-null float64\n",
      "citric acid             178 non-null float64\n",
      "residual sugar          178 non-null float64\n",
      "chlorides               178 non-null float64\n",
      "free sulfur dioxide     178 non-null float64\n",
      "total sulfur dioxide    178 non-null float64\n",
      "density                 178 non-null float64\n",
      "pH                      178 non-null float64\n",
      "sulphates               178 non-null float64\n",
      "alcohol                 178 non-null float64\n",
      "quality                 178 non-null int64\n",
      "dtypes: float64(11), int64(1)\n",
      "memory usage: 18.1 KB\n"
     ]
    },
    {
     "data": {
      "text/html": [
       "<div>\n",
       "<style scoped>\n",
       "    .dataframe tbody tr th:only-of-type {\n",
       "        vertical-align: middle;\n",
       "    }\n",
       "\n",
       "    .dataframe tbody tr th {\n",
       "        vertical-align: top;\n",
       "    }\n",
       "\n",
       "    .dataframe thead th {\n",
       "        text-align: right;\n",
       "    }\n",
       "</style>\n",
       "<table border=\"1\" class=\"dataframe\">\n",
       "  <thead>\n",
       "    <tr style=\"text-align: right;\">\n",
       "      <th></th>\n",
       "      <th>fixed acidity</th>\n",
       "      <th>volatile acidity</th>\n",
       "      <th>citric acid</th>\n",
       "      <th>residual sugar</th>\n",
       "      <th>chlorides</th>\n",
       "      <th>free sulfur dioxide</th>\n",
       "      <th>total sulfur dioxide</th>\n",
       "      <th>density</th>\n",
       "      <th>pH</th>\n",
       "      <th>sulphates</th>\n",
       "      <th>alcohol</th>\n",
       "    </tr>\n",
       "  </thead>\n",
       "  <tbody>\n",
       "    <tr>\n",
       "      <td>0</td>\n",
       "      <td>7.4</td>\n",
       "      <td>0.70</td>\n",
       "      <td>0.00</td>\n",
       "      <td>1.9</td>\n",
       "      <td>0.076</td>\n",
       "      <td>11.0</td>\n",
       "      <td>34.0</td>\n",
       "      <td>0.9978</td>\n",
       "      <td>3.51</td>\n",
       "      <td>0.56</td>\n",
       "      <td>9.4</td>\n",
       "    </tr>\n",
       "    <tr>\n",
       "      <td>9</td>\n",
       "      <td>7.5</td>\n",
       "      <td>0.50</td>\n",
       "      <td>0.36</td>\n",
       "      <td>6.1</td>\n",
       "      <td>0.071</td>\n",
       "      <td>17.0</td>\n",
       "      <td>102.0</td>\n",
       "      <td>0.9978</td>\n",
       "      <td>3.35</td>\n",
       "      <td>0.80</td>\n",
       "      <td>10.5</td>\n",
       "    </tr>\n",
       "    <tr>\n",
       "      <td>18</td>\n",
       "      <td>7.4</td>\n",
       "      <td>0.59</td>\n",
       "      <td>0.08</td>\n",
       "      <td>4.4</td>\n",
       "      <td>0.086</td>\n",
       "      <td>6.0</td>\n",
       "      <td>29.0</td>\n",
       "      <td>0.9974</td>\n",
       "      <td>3.38</td>\n",
       "      <td>0.50</td>\n",
       "      <td>9.0</td>\n",
       "    </tr>\n",
       "    <tr>\n",
       "      <td>27</td>\n",
       "      <td>7.9</td>\n",
       "      <td>0.43</td>\n",
       "      <td>0.21</td>\n",
       "      <td>1.6</td>\n",
       "      <td>0.106</td>\n",
       "      <td>10.0</td>\n",
       "      <td>37.0</td>\n",
       "      <td>0.9966</td>\n",
       "      <td>3.17</td>\n",
       "      <td>0.91</td>\n",
       "      <td>9.5</td>\n",
       "    </tr>\n",
       "    <tr>\n",
       "      <td>36</td>\n",
       "      <td>7.8</td>\n",
       "      <td>0.60</td>\n",
       "      <td>0.14</td>\n",
       "      <td>2.4</td>\n",
       "      <td>0.086</td>\n",
       "      <td>3.0</td>\n",
       "      <td>15.0</td>\n",
       "      <td>0.9975</td>\n",
       "      <td>3.42</td>\n",
       "      <td>0.60</td>\n",
       "      <td>10.8</td>\n",
       "    </tr>\n",
       "  </tbody>\n",
       "</table>\n",
       "</div>"
      ],
      "text/plain": [
       "    fixed acidity  volatile acidity  citric acid  residual sugar  chlorides  \\\n",
       "0             7.4              0.70         0.00             1.9      0.076   \n",
       "9             7.5              0.50         0.36             6.1      0.071   \n",
       "18            7.4              0.59         0.08             4.4      0.086   \n",
       "27            7.9              0.43         0.21             1.6      0.106   \n",
       "36            7.8              0.60         0.14             2.4      0.086   \n",
       "\n",
       "    free sulfur dioxide  total sulfur dioxide  density    pH  sulphates  \\\n",
       "0                  11.0                  34.0   0.9978  3.51       0.56   \n",
       "9                  17.0                 102.0   0.9978  3.35       0.80   \n",
       "18                  6.0                  29.0   0.9974  3.38       0.50   \n",
       "27                 10.0                  37.0   0.9966  3.17       0.91   \n",
       "36                  3.0                  15.0   0.9975  3.42       0.60   \n",
       "\n",
       "    alcohol  \n",
       "0       9.4  \n",
       "9      10.5  \n",
       "18      9.0  \n",
       "27      9.5  \n",
       "36     10.8  "
      ]
     },
     "execution_count": 5,
     "metadata": {},
     "output_type": "execute_result"
    }
   ],
   "source": [
    "columns_need = ['fixed acidity', 'volatile acidity', 'citric acid', 'residual sugar',\n",
    "       'chlorides', 'free sulfur dioxide', 'total sulfur dioxide', 'density',\n",
    "       'pH', 'sulphates', 'alcohol', 'quality']\n",
    "\n",
    "ad = ad[columns_need]\n",
    "ad = ad.dropna() #в случае пропуска убираем значение из данных\n",
    "\n",
    "ad = ad.iloc[::3,:]\n",
    "X = ad.drop('quality',axis=1)\n",
    "Y = ad['quality'].astype('str')\n",
    "\n",
    "ad.info()\n",
    "X.head()"
   ]
  },
  {
   "cell_type": "markdown",
   "metadata": {},
   "source": [
    "**Для того, чтобы показать какие ошибки были допущены при классификации построим тепловые карты.**"
   ]
  },
  {
   "cell_type": "code",
   "execution_count": 6,
   "metadata": {},
   "outputs": [],
   "source": [
    "from sklearn.neighbors import KNeighborsClassifier\n",
    "from sklearn.model_selection import train_test_split\n",
    "from sklearn import metrics\n",
    "import seaborn as sns\n",
    "import time\n",
    "\n",
    "#для построения heatmap\n",
    "def heat_map_plot(y_t,y_p):\n",
    "    class_names = [0, 1]\n",
    "    fig, ax = plt.subplots()\n",
    "    ticks = np.arange(len(class_names))\n",
    "    plt.xticks(ticks, class_names)\n",
    "    plt.yticks(ticks, class_names)\n",
    "\n",
    "    sns.heatmap(pd.DataFrame(\n",
    "        metrics.confusion_matrix(y_t, y_p)),\n",
    "        annot=True)\n",
    "    plt.ylabel('Действительные значения')\n",
    "    plt.xlabel('Предсказанные значения')\n",
    "    plt.show()\n",
    "    \n",
    "table = []; "
   ]
  },
  {
   "cell_type": "code",
   "execution_count": 8,
   "metadata": {
    "scrolled": true
   },
   "outputs": [
    {
     "name": "stdout",
     "output_type": "stream",
     "text": [
      "Кол-во тренировочных данных = 142\n",
      "Кол-во тестовых данных = 36\n"
     ]
    }
   ],
   "source": [
    "# разделяем данные\n",
    "\n",
    "x_train, x_test, y_train, y_test = train_test_split(X, Y, \n",
    "                                                   test_size=0.2,\n",
    "                                                   random_state=0)\n",
    "print(\"Кол-во тренировочных данных = \" + str(len(x_train)))\n",
    "print(\"Кол-во тестовых данных = \" + str(len(y_test)))"
   ]
  },
  {
   "cell_type": "markdown",
   "metadata": {},
   "source": [
    "**Реализация KNN**"
   ]
  },
  {
   "cell_type": "code",
   "execution_count": 14,
   "metadata": {},
   "outputs": [],
   "source": [
    "from sklearn.metrics.pairwise import cosine_similarity\n",
    "import numpy.linalg as la\n",
    "\n",
    "#теперь реализуем свой класс knn\n",
    "class knn:\n",
    "    def __init__(self,k=3,metric='minkowski'):\n",
    "        self.k = k\n",
    "        self.metric = metric\n",
    "    \n",
    "    def fit(self,x,y):\n",
    "        self.x_train = x;\n",
    "        self.y_train = y;\n",
    "        \n",
    "    def predict(self,x_test):\n",
    "        res = []\n",
    "        dist = self.choice() #получаем функцию по которой будем считать расстояние\n",
    "        for i in range(x_test.shape[0]):\n",
    "            distances = []\n",
    "            targets = {}\n",
    "            for j in range(self.x_train.shape[0]):\n",
    "                distance = dist(self.x_train[j],x_test[i])\n",
    "                distances.append([distance, j])\n",
    "\n",
    "            distances = sorted(distances)\n",
    "        \n",
    "            for j in range(self.k): \n",
    "                index = distances[j][1]\n",
    "                elem = self.y_train[index] \n",
    "                if(elem in targets): \n",
    "                    targets[elem] += 1;\n",
    "                else:\n",
    "                    targets[elem] = 1\n",
    "                    \n",
    "            res.append(sorted(targets.items(), key=lambda a:a[1], reverse=True)[0][0])\n",
    "        return res\n",
    "    \n",
    "    #далее идут метрики\n",
    "    def euclid(self,x,y):\n",
    "        return np.sqrt(np.sum((x - y)**2))\n",
    "\n",
    "    def manhattan(self,x,y):\n",
    "        return np.sum(np.abs(x - y))\n",
    "\n",
    "    def chebyshev(self,x,y):\n",
    "        return np.max(np.abs(x - y))\n",
    "\n",
    "    def minkowski(self,x,y,p=1.2):\n",
    "        return np.sum(np.abs(x - y)**p)**(1/p)\n",
    "    \n",
    "    def cosin(self,a,b):\n",
    "        return round(np.inner(a, b)/(la.norm(a)*la.norm(b)), 3)\n",
    "    \n",
    "    def choice(self):\n",
    "        if(self.metric == 'euclid'):\n",
    "            return self.euclid\n",
    "        elif(self.metric == 'manhattean'):\n",
    "            return self.manhattan\n",
    "        elif(self.metric == 'chebyshev'):\n",
    "            return self.chebyshev\n",
    "        elif(self.metric == 'minkowski'):\n",
    "            return self.minkowski\n",
    "        elif(self.metric == 'cosin'):\n",
    "            return self.cosin\n",
    "        else:\n",
    "            return self.euclid"
   ]
  },
  {
   "cell_type": "code",
   "execution_count": 15,
   "metadata": {},
   "outputs": [
    {
     "data": {
      "image/png": "[encoded data removed]",
      "text/plain": [
       "<Figure size 432x288 with 2 Axes>"
      ]
     },
     "metadata": {
      "needs_background": "light"
     },
     "output_type": "display_data"
    },
    {
     "name": "stdout",
     "output_type": "stream",
     "text": [
      "accuracy =  0.4722222222222222\n",
      "time = 0.13100576400756836 sec\n"
     ]
    }
   ],
   "source": [
    "x = x_train.values\n",
    "y = y_train.values\n",
    "\n",
    "kn = knn(10,'minkowski')\n",
    "start_time = time.time()\n",
    "kn.fit(x,y)\n",
    "y_pred = kn.predict(x_test.values)\n",
    "t = (time.time() - start_time)\n",
    "heat_map_plot(y_test,y_pred)\n",
    "print(\"accuracy = \",metrics.accuracy_score(y_test, y_pred))#выводит точность классификации\n",
    "print(\"time = \" + str(t) + \" sec\")#выводит затраченное время"
   ]
  },
  {
   "cell_type": "markdown",
   "metadata": {},
   "source": [
    "**Реализация sklearn**"
   ]
  },
  {
   "cell_type": "code",
   "execution_count": 16,
   "metadata": {},
   "outputs": [
    {
     "data": {
      "image/png": "[encoded data removed]",
      "text/plain": [
       "<Figure size 432x288 with 2 Axes>"
      ]
     },
     "metadata": {
      "needs_background": "light"
     },
     "output_type": "display_data"
    },
    {
     "name": "stdout",
     "output_type": "stream",
     "text": [
      "accuracy =  0.4722222222222222\n",
      "time = 0.009994029998779297 sec\n"
     ]
    }
   ],
   "source": [
    "#метод k- ближайших соседей\n",
    "cls = KNeighborsClassifier(algorithm='brute')\n",
    "start_time = time.time()\n",
    "cls.fit(x_train, y_train)\n",
    "y_pred = cls.predict(x_test)\n",
    "t = (time.time() - start_time)\n",
    "heat_map_plot(y_test,y_pred)\n",
    "print(\"accuracy = \",metrics.accuracy_score(y_test, y_pred))\n",
    "print(\"time = \" + str(t) + \" sec\")"
   ]
  },
  {
   "cell_type": "markdown",
   "metadata": {},
   "source": [
    "## Полиномиальная регрессия"
   ]
  },
  {
   "cell_type": "code",
   "execution_count": 20,
   "metadata": {},
   "outputs": [
    {
     "name": "stdout",
     "output_type": "stream",
     "text": [
      "Index(['fixed acidity', 'volatile acidity', 'citric acid', 'residual sugar',\n",
      "       'chlorides', 'free sulfur dioxide', 'total sulfur dioxide', 'density',\n",
      "       'pH', 'sulphates', 'alcohol', 'quality'],\n",
      "      dtype='object')\n"
     ]
    },
    {
     "data": {
      "image/png": "[encoded data removed]",
      "text/plain": [
       "<Figure size 432x288 with 1 Axes>"
      ]
     },
     "metadata": {
      "needs_background": "light"
     },
     "output_type": "display_data"
    },
    {
     "name": "stdout",
     "output_type": "stream",
     "text": [
      "Размер выборки: 178\n"
     ]
    }
   ],
   "source": [
    "print(ad.columns)\n",
    "plt.scatter(ad['alcohol'],ad['quality'])\n",
    "plt.show()\n",
    "ads = ad.copy()\n",
    "ads = ads.sort_values(by='alcohol')\n",
    "x = ads['alcohol'].values \n",
    "y = ads['quality'].values\n",
    "print('Размер выборки: ' + str(len(x)))"
   ]
  },
  {
   "cell_type": "markdown",
   "metadata": {},
   "source": [
    "### Реализация\n",
    "Построить регрессию – это значит подобрать такую функцию, которая как можно точнее аппроксимирует множество точек, полученных из данных пар. То есть надо найти приближение данных (x,y) полиномом k-степени."
   ]
  },
  {
   "cell_type": "code",
   "execution_count": 21,
   "metadata": {},
   "outputs": [
    {
     "name": "stdout",
     "output_type": "stream",
     "text": [
      "y* = -0.102x^2 + 2.592x^1 + -10.125\n",
      "y* = -0.003x^3 + 0.016x^2 + 1.282x^1 + -5.308\n",
      "y* = 0.044x^4 + -2.013x^3 + 33.904x^2 + -250.894x^1 + 693.571\n"
     ]
    },
    {
     "data": {
      "image/png": "[encoded data removed]",
      "text/plain": [
       "<Figure size 432x288 with 1 Axes>"
      ]
     },
     "metadata": {
      "needs_background": "light"
     },
     "output_type": "display_data"
    },
    {
     "name": "stdout",
     "output_type": "stream",
     "text": [
      "Расчет среднеквадратической ошибки:\n",
      "MSE2 = 0.560286940628876\n",
      "MSE3 = 0.5602351901366002\n",
      "MSE4 = 0.5421847634243843\n",
      "time = 0.04500126838684082sec\n"
     ]
    }
   ],
   "source": [
    "def nonlinear(x,y,p=3,z=4):\n",
    "    m = np.zeros((p,p))\n",
    "    b = np.zeros(p)\n",
    "    for i in range(p):\n",
    "        for j in range(p):\n",
    "            m[i][j] = np.sum(x**(z-i-j))\n",
    "        b[i] = np.dot(x**((z/2)-i),y)\n",
    "    return np.linalg.solve(m,b)#решает систему\n",
    "\n",
    "def print_func(coef,rd=3):\n",
    "    print('y* = ',end='')\n",
    "    for i,e in enumerate(coef):\n",
    "        if(i != len(coef)-1):\n",
    "            print(str(round(e,rd)) + 'x^' + str(len(coef) - i - 1) + ' + ',end='')\n",
    "    print(round(coef[len(coef)-1],rd))\n",
    "\n",
    "start_time = time.time() #засекаем время\n",
    "\n",
    "lws = 4\n",
    "#--------------------------------\n",
    "coef = nonlinear(x,y) #квадратичная аппроксимация\n",
    "y_pp = [];\n",
    "for i in x:\n",
    "    y_pp.append(coef[0]*i*i + coef[1]*i + coef[2])\n",
    "plt.plot(x,y_pp,color='red',label='a*x^2 + b*x + c',linewidth=lws)\n",
    "print_func(coef)\n",
    "\n",
    "#--------------------------------\n",
    "coef = nonlinear(x,y,4,6) #кубическая аппроксимация\n",
    "y_ppp = []\n",
    "for i in x:\n",
    "    arr = np.array([i**3,i**2,i,1])\n",
    "    y_ppp.append(np.dot(arr,coef))\n",
    "plt.plot(x,y_ppp,color='green',label='a*x^3 + b*x^2 + c*x + d',linewidth=lws)\n",
    "print_func(coef)\n",
    "\n",
    "#--------------------------------\n",
    "coef = nonlinear(x,y,5,8) #аппроксимация 4-й степени\n",
    "y_pppp = []\n",
    "for i in x:\n",
    "    arr = np.array([i**4,i**3,i**2,i,1])\n",
    "    y_pppp.append(np.dot(arr,coef))\n",
    "plt.plot(x,y_pppp,color='yellow',label='a*x^4 + b*x^3 + c*x^2 + d*x + e',linewidth=lws)\n",
    "print_func(coef)\n",
    "t = (time.time() - start_time)\n",
    "\n",
    "plt.scatter(x,y,color='blue')\n",
    "plt.legend()\n",
    "plt.show()\n",
    "\n",
    "#--------------------------------\n",
    "y_pp,y_ppp,y_pppp = np.array(y_pp),np.array(y_ppp),np.array(y_pppp)\n",
    "\n",
    "print('Расчет среднеквадратической ошибки:')\n",
    "print('MSE2 = ' + str(((y_pp-y)**2).mean()))\n",
    "print('MSE3 = ' + str(((y_ppp-y)**2).mean()))\n",
    "print('MSE4 = ' + str(((y_pppp-y)**2).mean()))\n",
    "print('time = ' + str(t) + 'sec')"
   ]
  },
  {
   "cell_type": "markdown",
   "metadata": {},
   "source": [
    "**Используя sklearn**"
   ]
  },
  {
   "cell_type": "code",
   "execution_count": 23,
   "metadata": {},
   "outputs": [
    {
     "data": {
      "image/png": "[encoded data removed]",
      "text/plain": [
       "<Figure size 432x288 with 1 Axes>"
      ]
     },
     "metadata": {
      "needs_background": "light"
     },
     "output_type": "display_data"
    },
    {
     "name": "stdout",
     "output_type": "stream",
     "text": [
      "MSE2 = 0.5696334085490092\n",
      "MSE3 = 0.5602832478056895\n",
      "MSE4 = 0.5599829227711597\n",
      "time = 0.013992786407470703sec\n"
     ]
    }
   ],
   "source": [
    "from sklearn.linear_model import Ridge\n",
    "from sklearn.preprocessing import PolynomialFeatures\n",
    "from sklearn.pipeline import make_pipeline\n",
    "from sklearn.metrics import mean_squared_error\n",
    "\n",
    "plt.scatter(x,y,color='blue')\n",
    "colors = ['red', 'green', 'yellow']\n",
    "lw = 3\n",
    "mse = []\n",
    "start_time = time.time() #засекаем время\n",
    "for count, degree in enumerate([2, 3, 4]):\n",
    "    model = make_pipeline(PolynomialFeatures(degree), Ridge())\n",
    "    X = x[:, np.newaxis]\n",
    "    model.fit(X, y)\n",
    "    y_pred = model.predict(X)\n",
    "    plt.plot(x, y_pred, color=colors[count], linewidth=lw,\n",
    "             label=\"degree %d\" % degree)\n",
    "    mse.append(mean_squared_error(y_pred,y))\n",
    "t = (time.time() - start_time)\n",
    "plt.show()\n",
    "\n",
    "for i,e in enumerate(mse):\n",
    "    print('MSE' + str(i+2) + ' = ' + str(e))\n",
    "print('time = ' + str(t) + 'sec')"
   ]
  },
  {
   "cell_type": "markdown",
   "metadata": {},
   "source": [
    "### Вывод\n",
    "В ходе данной лаборторной работы были реализованы алгоритмы k ближайших соседей и полиномиальной регрессии. На табличных данных KNN предсказывает с точностью 47%. Точность моей реализации и реализации с помощью sklearn практически совпадают, но затраченное время отличается в разы (sklearn многократно быстрее). Возможно, данные выбраны не совсем удачно или надо было их лучше обработать."
   ]
  }
 ],
 "metadata": {
  "kernelspec": {
   "display_name": "Python 3",
   "language": "python",
   "name": "python3"
  },
  "language_info": {
   "codemirror_mode": {
    "name": "ipython",
    "version": 3
   },
   "file_extension": ".py",
   "mimetype": "text/x-python",
   "name": "python",
   "nbconvert_exporter": "python",
   "pygments_lexer": "ipython3",
   "version": "3.7.4"
  }
 },
 "nbformat": 4,
 "nbformat_minor": 2
}
